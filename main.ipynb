{
 "cells": [
  {
   "cell_type": "code",
   "execution_count": 1,
   "id": "951c193e",
   "metadata": {},
   "outputs": [],
   "source": [
    "from ngsolve import *\n",
    "from ngsolve.webgui import Draw\n",
    "from netgen.geom2d import SplineGeometry\n",
    "import numpy as np\n",
    "from copy import copy\n",
    "import matplotlib.pyplot as plt"
   ]
  },
  {
   "cell_type": "markdown",
   "id": "481c7713",
   "metadata": {},
   "source": [
    "# 1) Mesh"
   ]
  },
  {
   "cell_type": "code",
   "execution_count": 2,
   "id": "6756f8ab",
   "metadata": {},
   "outputs": [
    {
     "data": {
      "application/vnd.jupyter.widget-view+json": {
       "model_id": "3a7a031fba2d4cffa5d2ceba1bad24a3",
       "version_major": 2,
       "version_minor": 0
      },
      "text/plain": [
       "WebGuiWidget(layout=Layout(height='50vh', width='100%'), value={'gui_settings': {}, 'ngsolve_version': '6.2.23…"
      ]
     },
     "metadata": {},
     "output_type": "display_data"
    },
    {
     "data": {
      "text/plain": [
       "BaseWebGuiScene"
      ]
     },
     "execution_count": 2,
     "metadata": {},
     "output_type": "execute_result"
    }
   ],
   "source": [
    "geo = SplineGeometry()\n",
    "\n",
    "geo.AddRectangle(p1=(-3,-3),p2=(3,3),bc=\"rectangle\",leftdomain=1,rightdomain=0,\n",
    "                 bcs = (\"right\", \"top\", \"left\", \"bot\"))\n",
    "\n",
    "geo.AddRectangle(p1=(-1,-0.4), p2=(1,0.4),bc=\"rectangle\",leftdomain=2,rightdomain=1)\n",
    "\n",
    "geo.SetMaterial (1, \"out\")\n",
    "geo.SetMaterial (2, \"in\")\n",
    "\n",
    "ngmesh = geo.GenerateMesh(maxh=0.2)\n",
    "mesh = Mesh(ngmesh)\n",
    "Draw(mesh)"
   ]
  },
  {
   "cell_type": "markdown",
   "id": "83f11c25",
   "metadata": {},
   "source": [
    "## Méthode 1 : moindre carrés\n",
    "\n",
    "Étant donné un champ $v \\in \\mathcal{L}^2(\\Omega)$ (défini aux points de Gauss), on veut trouver un champ $u\\in\\mathcal{H}^1(\\Omega)$ (défini aux noeuds) en résolvant :\n",
    "$$\\forall \\theta^*\\in \\mathcal{H}^1(\\Omega), \\quad \\int_\\Omega \\theta^* u = \\int_\\Omega \\theta^* v  $$"
   ]
  },
  {
   "cell_type": "code",
   "execution_count": 3,
   "id": "577ad2cb",
   "metadata": {},
   "outputs": [],
   "source": [
    "fes_noeuds = H1(mesh)\n",
    "fes_gauss = L2(mesh)\n",
    "\n",
    "v = GridFunction(fes_gauss)\n",
    "#v.Set(3*x+y**2) \n",
    "v.Set(1, definedon = mesh.Materials(\"in\"))\n",
    "\n",
    "theta = fes_noeuds.TestFunction()\n",
    "u = fes_noeuds.TrialFunction()\n",
    "\n",
    "K = BilinearForm(fes_noeuds, symmetric = True)\n",
    "K += theta*u*dx\n",
    "\n",
    "l = LinearForm(fes_noeuds)\n",
    "l += theta * v *dx\n",
    "\n",
    "l.Assemble()\n",
    "K.Assemble()\n",
    "    \n",
    "usol = GridFunction(fes_noeuds)  # solution\n",
    "usol.vec.data =     K.mat.Inverse(inverse=\"sparsecholesky\") * l.vec"
   ]
  },
  {
   "cell_type": "code",
   "execution_count": 4,
   "id": "3dc4cb4c",
   "metadata": {
    "scrolled": true
   },
   "outputs": [
    {
     "data": {
      "application/vnd.jupyter.widget-view+json": {
       "model_id": "2bf2c43fabf74c1fb164b9ab31938e3a",
       "version_major": 2,
       "version_minor": 0
      },
      "text/plain": [
       "WebGuiWidget(layout=Layout(height='50vh', width='100%'), value={'gui_settings': {}, 'ngsolve_version': '6.2.23…"
      ]
     },
     "metadata": {},
     "output_type": "display_data"
    },
    {
     "data": {
      "text/plain": [
       "BaseWebGuiScene"
      ]
     },
     "execution_count": 4,
     "metadata": {},
     "output_type": "execute_result"
    }
   ],
   "source": [
    "Draw(v,mesh)"
   ]
  },
  {
   "cell_type": "code",
   "execution_count": 5,
   "id": "85bb3515",
   "metadata": {},
   "outputs": [
    {
     "data": {
      "application/vnd.jupyter.widget-view+json": {
       "model_id": "05513e01872a4ed2aaf03cacecc3d43f",
       "version_major": 2,
       "version_minor": 0
      },
      "text/plain": [
       "WebGuiWidget(layout=Layout(height='50vh', width='100%'), value={'gui_settings': {}, 'ngsolve_version': '6.2.23…"
      ]
     },
     "metadata": {},
     "output_type": "display_data"
    },
    {
     "data": {
      "text/plain": [
       "BaseWebGuiScene"
      ]
     },
     "execution_count": 5,
     "metadata": {},
     "output_type": "execute_result"
    }
   ],
   "source": [
    "Draw(usol,mesh)"
   ]
  },
  {
   "cell_type": "markdown",
   "id": "220de638",
   "metadata": {},
   "source": [
    "## Méthode 2 : décomposition de Helmoltz-Hodge\n",
    "\n",
    "Ce théorème dit, en gros, que tout champ vectoriel $\\mathcal{L}^2(\\Omega)$ peut se décomposer de la manière suivante :\n",
    "\n",
    "$$ \\vec{u} = \\nabla \\theta + \\nabla \\times \\vec{\\phi} $$\n",
    "\n",
    "avec $\\theta \\in \\mathcal{H}^1(\\Omega)$ (facile à interpoler) et $\\vec{\\phi} \\in H(\\text{curl},\\Omega)$. On peut alors calculer $\\theta$ facilement par \n",
    "\n",
    "$$\\forall \\theta^*\\in \\mathcal{H}^1(\\Omega), \\quad \\int_\\Omega \\nabla \\theta^* \\cdot \\nabla \\theta = \\int_\\Omega \\nabla\\theta^* \\cdot \\vec{u} $$\n",
    "\n",
    "en imposant $\\theta = 0$ en un point arbitraire, puis $\\vec{\\phi}$ en résolvant :\n",
    "$$\\forall \\vec{\\phi}^*\\in H(\\text{curl},\\Omega), \\quad \\int_\\Omega \\nabla \\times \\vec{\\phi}^* \\cdot \\nabla \\times \\vec{\\phi}  = \\int_\\Omega \\nabla \\times \\vec{\\phi}^*\\cdot (\\vec{u} - \\nabla \\theta) $$\n",
    "\n",
    "Ce calcul exige une jauge (ou bien d'être résolu par un gradient conjugué). Si on ne veut pas s'embêter, on peut ajouter un terme de pénalisation : \n",
    "$$\\forall \\vec{\\phi}^*\\in H(\\text{curl},\\Omega), \\quad \\int_\\Omega \\nabla \\times \\vec{\\phi}^* \\cdot \\nabla \\times \\vec{\\phi} + \\epsilon  \\int_\\Omega \\vec{\\phi}^* \\cdot \\vec{\\phi} = \\int_\\Omega \\nabla \\times \\vec{\\phi}^*\\cdot (\\vec{u} - \\nabla \\theta) $$\n",
    "\n",
    "Par ailleurs, $\\vec{\\phi}$ est plus dur à interpoler : il faudrait interpoler non pas les valeurs du champ mais les valeurs des circulations aux arêtes du nouveau maillage). En 2D en revanche, l'opérateur rotationnel s'écrit :\n",
    "\n",
    "$$ \\nabla  \\times \\vec{\\phi} = \\left[ \\begin{matrix} 0 & 1 \\\\ -1 & 0 \\end{matrix} \\right] \\nabla \\phi_z $$\n",
    "\n",
    "Avec $\\phi_z$ une grandeur nodale facilement interpolable"
   ]
  },
  {
   "cell_type": "code",
   "execution_count": 6,
   "id": "b14d4af1",
   "metadata": {},
   "outputs": [
    {
     "data": {
      "application/vnd.jupyter.widget-view+json": {
       "model_id": "6940bdbbf8d640b1b47eff0b5d4d1b61",
       "version_major": 2,
       "version_minor": 0
      },
      "text/plain": [
       "WebGuiWidget(layout=Layout(height='50vh', width='100%'), value={'gui_settings': {}, 'ngsolve_version': '6.2.23…"
      ]
     },
     "metadata": {},
     "output_type": "display_data"
    },
    {
     "data": {
      "text/plain": [
       "BaseWebGuiScene"
      ]
     },
     "execution_count": 6,
     "metadata": {},
     "output_type": "execute_result"
    }
   ],
   "source": [
    "# définition de la fonction à décomposer\n",
    "vec = GridFunction(L2(mesh, dim = 2))\n",
    "vec.Set(CoefficientFunction((1,1)), definedon = mesh.Materials(\"in\"))\n",
    "\n",
    "Draw(vec,mesh,vectors = { \"grid_size\":20})"
   ]
  },
  {
   "cell_type": "code",
   "execution_count": 7,
   "id": "cbb523c7",
   "metadata": {},
   "outputs": [
    {
     "data": {
      "application/vnd.jupyter.widget-view+json": {
       "model_id": "9c47b830c8a2452685c631306b686fed",
       "version_major": 2,
       "version_minor": 0
      },
      "text/plain": [
       "WebGuiWidget(layout=Layout(height='50vh', width='100%'), value={'gui_settings': {}, 'ngsolve_version': '6.2.23…"
      ]
     },
     "metadata": {},
     "output_type": "display_data"
    },
    {
     "data": {
      "text/plain": [
       "BaseWebGuiScene"
      ]
     },
     "execution_count": 7,
     "metadata": {},
     "output_type": "execute_result"
    }
   ],
   "source": [
    "# composante coulombienne\n",
    "fes_noeuds2 = H1(mesh)\n",
    "fes_noeuds2.FreeDofs()[0] = False\n",
    "\n",
    "theta_star = fes_noeuds2.TestFunction()\n",
    "theta = fes_noeuds2.TrialFunction()\n",
    "\n",
    "Kgrad = BilinearForm(fes_noeuds2, symmetric = True); Kgrad += grad(theta_star)*grad(theta)*dx\n",
    "lgrad = LinearForm(fes_noeuds2) ;lgrad += grad(theta_star) * vec *dx\n",
    "lgrad.Assemble() ; Kgrad.Assemble()\n",
    "thetaSol = GridFunction(fes_noeuds2)  # solution\n",
    "thetaSol.vec.data =     Kgrad.mat.Inverse(inverse=\"sparsecholesky\",freedofs  =fes_noeuds2.FreeDofs() ) * lgrad.vec\n",
    "\n",
    "Draw(grad(thetaSol),mesh,vectors = { \"grid_size\":20})"
   ]
  },
  {
   "cell_type": "code",
   "execution_count": 8,
   "id": "b6f56d26",
   "metadata": {},
   "outputs": [
    {
     "data": {
      "application/vnd.jupyter.widget-view+json": {
       "model_id": "0a953b7e29024a4fb995701fa646be0f",
       "version_major": 2,
       "version_minor": 0
      },
      "text/plain": [
       "WebGuiWidget(layout=Layout(height='50vh', width='100%'), value={'gui_settings': {}, 'ngsolve_version': '6.2.23…"
      ]
     },
     "metadata": {},
     "output_type": "display_data"
    },
    {
     "data": {
      "text/plain": [
       "BaseWebGuiScene"
      ]
     },
     "execution_count": 8,
     "metadata": {},
     "output_type": "execute_result"
    }
   ],
   "source": [
    "# composante solenoidale\n",
    "\n",
    "def Rot2d(field):\n",
    "    return CoefficientFunction(((0,1),(-1,0)),dims = (2,2))*grad(field)\n",
    "\n",
    "phi_star = fes_noeuds2.TestFunction()\n",
    "phi = fes_noeuds2.TrialFunction()\n",
    "\n",
    "Kcurl = BilinearForm(fes_noeuds2, symmetric = True); Kcurl += Rot2d(phi_star)*Rot2d(phi)*dx\n",
    "lcurl = LinearForm(fes_noeuds2) ; lcurl += Rot2d(phi_star)* (vec - grad(thetaSol)) *dx\n",
    "lcurl.Assemble() ; Kcurl.Assemble()\n",
    "phiSol = GridFunction(fes_noeuds2)  # solution\n",
    "phiSol.vec.data =     Kcurl.mat.Inverse(inverse=\"sparsecholesky\",freedofs  =fes_noeuds2.FreeDofs() ) * lcurl.vec\n",
    "\n",
    "Draw(Rot2d(phiSol),mesh,vectors = { \"grid_size\":20})"
   ]
  },
  {
   "cell_type": "code",
   "execution_count": 9,
   "id": "002a4fcf",
   "metadata": {},
   "outputs": [
    {
     "data": {
      "application/vnd.jupyter.widget-view+json": {
       "model_id": "287686f9587c489d9d2fbfd1b13c431f",
       "version_major": 2,
       "version_minor": 0
      },
      "text/plain": [
       "WebGuiWidget(layout=Layout(height='50vh', width='100%'), value={'gui_settings': {}, 'ngsolve_version': '6.2.23…"
      ]
     },
     "metadata": {},
     "output_type": "display_data"
    },
    {
     "data": {
      "text/plain": [
       "BaseWebGuiScene"
      ]
     },
     "execution_count": 9,
     "metadata": {},
     "output_type": "execute_result"
    }
   ],
   "source": [
    "Draw(grad(thetaSol) + Rot2d(phiSol),mesh,vectors = { \"grid_size\":20})"
   ]
  },
  {
   "cell_type": "markdown",
   "id": "b6b24276",
   "metadata": {},
   "source": [
    "# Étude de convergence\n",
    "\n",
    "## 1) Champ \"smooth\""
   ]
  },
  {
   "cell_type": "code",
   "execution_count": 10,
   "id": "7fd68043",
   "metadata": {},
   "outputs": [
    {
     "name": "stdout",
     "output_type": "stream",
     "text": [
      "1\n",
      "3\n",
      "5\n",
      "7\n",
      "9\n",
      "11\n",
      "13\n",
      "15\n",
      "17\n",
      "19\n",
      "21\n",
      "23\n",
      "25\n",
      "27\n",
      "29\n",
      "31\n",
      "33\n",
      "35\n",
      "37\n",
      "39\n"
     ]
    }
   ],
   "source": [
    "errorDiffC0 = []\n",
    "errorHelmoltzC0 = []\n",
    "maxHC0 = []\n",
    "for i in range(1,40,2):\n",
    "    maxHC0.append(10**(-i*0.05))\n",
    "    ngmesh = geo.GenerateMesh(maxh=maxHC0[-1])\n",
    "    mesh = Mesh(ngmesh)\n",
    "    \n",
    "    # fonction aux \"points de Gauss\"\n",
    "    vec = GridFunction(L2(mesh, dim = 2)) # espace L2 = défini aux points de Gauss\n",
    "    vec.Set((x**2+1,-y**3))\n",
    "    \n",
    "    # Méthode moindre carrés = \"diffusion\"\n",
    "    fes_noeuds = H1(mesh)\n",
    "    theta_star = fes_noeuds.TestFunction()\n",
    "    theta = fes_noeuds.TrialFunction()\n",
    "    K = BilinearForm(fes_noeuds, symmetric = True) ; K += theta_star * theta *dx; K.Assemble()\n",
    "    l0 = LinearForm(fes_noeuds); l0 += theta_star * vec[0] *dx;  l0.Assemble()\n",
    "    l1 = LinearForm(fes_noeuds); l1 += theta_star * vec[1] *dx;  l1.Assemble()\n",
    "    udiff0 = GridFunction(fes_noeuds)  # solution\n",
    "    udiff0.vec.data =     K.mat.Inverse(inverse=\"sparsecholesky\") * l0.vec\n",
    "    udiff1 = GridFunction(fes_noeuds)\n",
    "    udiff1.vec.data =     K.mat.Inverse(inverse=\"sparsecholesky\") * l1.vec\n",
    "    udiff =  GridFunction(H1(mesh, dim=2))\n",
    "    udiff.Set((udiff0,udiff1))\n",
    "    errorDiffC0.append(np.sqrt(Integrate((udiff-vec)*(udiff-vec),mesh)))\n",
    "    \n",
    "    # Méthode basée sur la décomposition de Helmoltz\n",
    "    fes_noeuds_Helmoltz = H1(mesh)\n",
    "    fes_noeuds_Helmoltz.FreeDofs()[0] = False\n",
    "    \n",
    "    # Composante gradient\n",
    "    theta_star = fes_noeuds_Helmoltz.TestFunction()\n",
    "    theta = fes_noeuds_Helmoltz.TrialFunction()\n",
    "\n",
    "    KGrad = BilinearForm(fes_noeuds_Helmoltz, symmetric = True); KGrad += grad(theta_star)*grad(theta)*dx;  KGrad.Assemble()\n",
    "    lGrad = LinearForm(fes_noeuds_Helmoltz) ;lGrad += grad(theta_star)* vec *dx; lGrad.Assemble()\n",
    "    uGrad = GridFunction(fes_noeuds_Helmoltz)  # solution\n",
    "    uGrad.vec.data =     KGrad.mat.Inverse(inverse=\"sparsecholesky\",freedofs  =fes_noeuds_Helmoltz.FreeDofs()) * lGrad.vec\n",
    "    \n",
    "    # Composante rotationnel\n",
    "    KRot = BilinearForm(fes_noeuds_Helmoltz, symmetric = True); KRot += Rot2d(theta_star)*Rot2d(theta)*dx;  KRot.Assemble()\n",
    "    lRot = LinearForm(fes_noeuds_Helmoltz) ;lRot += Rot2d(theta_star)* (vec - grad(uGrad)) *dx; lRot.Assemble()\n",
    "    uRot = GridFunction(fes_noeuds_Helmoltz)  # solution\n",
    "    uRot.vec.data =     KRot.mat.Inverse(inverse=\"sparsecholesky\",freedofs  =fes_noeuds_Helmoltz.FreeDofs()) * lRot.vec\n",
    "    \n",
    "    uHelmoltz = grad(uGrad) + Rot2d(uRot)\n",
    "    errorHelmoltzC0.append(np.sqrt(Integrate((uHelmoltz-vec)*(uHelmoltz-vec),mesh)))\n",
    "    \n",
    "    print(i)"
   ]
  },
  {
   "cell_type": "code",
   "execution_count": 11,
   "id": "07f7e72e",
   "metadata": {},
   "outputs": [
    {
     "data": {
      "image/png": "[encoded data removed]",
      "text/plain": [
       "<Figure size 640x480 with 1 Axes>"
      ]
     },
     "metadata": {},
     "output_type": "display_data"
    }
   ],
   "source": [
    "plt.loglog(maxHC0,errorDiffC0,'o--',label='Least Square')\n",
    "plt.loglog(maxHC0,errorHelmoltzC0,'d--',label='Helmoltz')\n",
    "plt.xlabel('h')\n",
    "plt.ylabel('L2 error')\n",
    "plt.grid(visible=1, which='both')\n",
    "plt.legend()\n",
    "plt.show()"
   ]
  },
  {
   "cell_type": "markdown",
   "id": "5c5f2f8d",
   "metadata": {},
   "source": [
    "## 2) Champ discontinu"
   ]
  },
  {
   "cell_type": "code",
   "execution_count": 12,
   "id": "8ccb856d",
   "metadata": {},
   "outputs": [
    {
     "name": "stdout",
     "output_type": "stream",
     "text": [
      "1\n",
      "3\n",
      "5\n",
      "7\n",
      "9\n",
      "11\n",
      "13\n",
      "15\n",
      "17\n",
      "19\n",
      "21\n",
      "23\n",
      "25\n",
      "27\n",
      "29\n",
      "31\n",
      "33\n",
      "35\n",
      "37\n",
      "39\n"
     ]
    }
   ],
   "source": [
    "errorDiff = []\n",
    "errorHelmoltz = []\n",
    "maxH = []\n",
    "for i in range(1,40,2):\n",
    "    maxH.append(10**(-i*0.05))\n",
    "    ngmesh = geo.GenerateMesh(maxh=maxH[-1])\n",
    "    mesh = Mesh(ngmesh)\n",
    "    \n",
    "    # fonction aux \"points de Gauss\"\n",
    "    vec = GridFunction(L2(mesh, dim = 2)) # espace L2 = défini aux points de Gauss\n",
    "    vec.Set(CoefficientFunction((1,1)), definedon = mesh.Materials(\"in\"))\n",
    "    \n",
    "    # Méthode moindre carrés = \"diffusion\"\n",
    "    fes_noeuds = H1(mesh)\n",
    "    theta_star = fes_noeuds.TestFunction()\n",
    "    theta = fes_noeuds.TrialFunction()\n",
    "    K = BilinearForm(fes_noeuds, symmetric = True) ; K += theta_star * theta *dx; K.Assemble()\n",
    "    l0 = LinearForm(fes_noeuds); l0 += theta_star * vec[0] *dx;  l0.Assemble()\n",
    "    l1 = LinearForm(fes_noeuds); l1 += theta_star * vec[1] *dx;  l1.Assemble()\n",
    "    udiff0 = GridFunction(fes_noeuds)  # solution\n",
    "    udiff0.vec.data =     K.mat.Inverse(inverse=\"sparsecholesky\") * l0.vec\n",
    "    udiff1 = GridFunction(fes_noeuds)\n",
    "    udiff1.vec.data =     K.mat.Inverse(inverse=\"sparsecholesky\") * l1.vec\n",
    "    udiff =  GridFunction(H1(mesh, dim=2))\n",
    "    udiff.Set((udiff0,udiff1))\n",
    "    errorDiff.append(np.sqrt(Integrate((udiff-vec)*(udiff-vec),mesh)))\n",
    "    \n",
    "    # Méthode basée sur la décomposition de Helmoltz\n",
    "    fes_noeuds_Helmoltz = H1(mesh)\n",
    "    fes_noeuds_Helmoltz.FreeDofs()[0] = False\n",
    "    \n",
    "    # Composante gradient\n",
    "    theta_star = fes_noeuds_Helmoltz.TestFunction()\n",
    "    theta = fes_noeuds_Helmoltz.TrialFunction()\n",
    "\n",
    "    KGrad = BilinearForm(fes_noeuds_Helmoltz, symmetric = True); KGrad += grad(theta_star)*grad(theta)*dx;  KGrad.Assemble()\n",
    "    lGrad = LinearForm(fes_noeuds_Helmoltz) ;lGrad += grad(theta_star)* vec *dx; lGrad.Assemble()\n",
    "    uGrad = GridFunction(fes_noeuds_Helmoltz)  # solution\n",
    "    uGrad.vec.data =     KGrad.mat.Inverse(inverse=\"sparsecholesky\",freedofs  =fes_noeuds_Helmoltz.FreeDofs()) * lGrad.vec\n",
    "    \n",
    "    # Composante rotationnel\n",
    "    KRot = BilinearForm(fes_noeuds_Helmoltz, symmetric = True); KRot += Rot2d(theta_star)*Rot2d(theta)*dx;  KRot.Assemble()\n",
    "    lRot = LinearForm(fes_noeuds_Helmoltz) ;lRot += Rot2d(theta_star)* (vec - grad(uGrad)) *dx; lRot.Assemble()\n",
    "    uRot = GridFunction(fes_noeuds_Helmoltz)  # solution\n",
    "    uRot.vec.data =     KRot.mat.Inverse(inverse=\"sparsecholesky\",freedofs  =fes_noeuds_Helmoltz.FreeDofs()) * lRot.vec\n",
    "    \n",
    "    uHelmoltz = grad(uGrad) + Rot2d(uRot)\n",
    "    errorHelmoltz.append(np.sqrt(Integrate((uHelmoltz-vec)*(uHelmoltz-vec),mesh)))\n",
    "    \n",
    "    print(i)"
   ]
  },
  {
   "cell_type": "code",
   "execution_count": 13,
   "id": "812c60e1",
   "metadata": {},
   "outputs": [
    {
     "data": {
      "image/png": "[encoded data removed]",
      "text/plain": [
       "<Figure size 640x480 with 1 Axes>"
      ]
     },
     "metadata": {},
     "output_type": "display_data"
    }
   ],
   "source": [
    "plt.loglog(maxH,errorDiff,'o--',label='Least Square')\n",
    "plt.loglog(maxH,errorHelmoltz,'d--',label='Helmoltz')\n",
    "plt.xlabel('h')\n",
    "plt.ylabel('L2 error')\n",
    "plt.grid(visible=1, which='both')\n",
    "plt.legend()\n",
    "plt.show()"
   ]
  },
  {
   "cell_type": "markdown",
   "id": "7b9e2085",
   "metadata": {},
   "source": [
    "# Référence:\n",
    "\n",
    "- Thèse Antoine LEMOINE : \"Décomposition de Hodge-Helmholtz discrète\", Université de Bordeaux, 2014"
   ]
  }
 ],
 "metadata": {
  "kernelspec": {
   "display_name": "Python 3 (ipykernel)",
   "language": "python",
   "name": "python3"
  },
  "language_info": {
   "codemirror_mode": {
    "name": "ipython",
    "version": 3
   },
   "file_extension": ".py",
   "mimetype": "text/x-python",
   "name": "python",
   "nbconvert_exporter": "python",
   "pygments_lexer": "ipython3",
   "version": "3.11.5"
  }
 },
 "nbformat": 4,
 "nbformat_minor": 5
}
